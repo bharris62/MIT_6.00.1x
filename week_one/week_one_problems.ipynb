{
 "cells": [
  {
   "cell_type": "code",
   "execution_count": 1,
   "metadata": {
    "collapsed": true
   },
   "outputs": [],
   "source": [
    "# Question 1\n",
    "# Assume s is a string of lower case characters.\n",
    "\n",
    "# Write a program that counts up the number of vowels contained in the string s. \n",
    "# Valid vowels are: 'a', 'e', 'i', 'o', and 'u'. For example, if s = 'azcbobobegghakl', your program should print:\n",
    "\n",
    "# Number of vowels: 5"
   ]
  },
  {
   "cell_type": "code",
   "execution_count": 25,
   "metadata": {
    "collapsed": false
   },
   "outputs": [],
   "source": [
    "# split the string into an array\n",
    "\n",
    "s = \"azcbobobegghakl\"\n",
    "arry = list(s)"
   ]
  },
  {
   "cell_type": "code",
   "execution_count": 27,
   "metadata": {
    "collapsed": false
   },
   "outputs": [
    {
     "name": "stdout",
     "output_type": "stream",
     "text": [
      "Number of vowels: 5\n"
     ]
    }
   ],
   "source": [
    "s = \"azcbobobegghakl\"\n",
    "arry = list(s)\n",
    "\n",
    "my_count = 0\n",
    "for i in arry:\n",
    "    if i == 'a' or i == 'e' or i == 'i' or i == 'o' or i == 'u':\n",
    "        my_count += 1\n",
    "print(\"Number of vowels: {}\".format(my_count))"
   ]
  },
  {
   "cell_type": "code",
   "execution_count": 28,
   "metadata": {
    "collapsed": true
   },
   "outputs": [],
   "source": [
    "# Question 2\n",
    "# Assume s is a string of lower case characters.\n",
    "\n",
    "# Write a program that prints the number of times the string 'bob' occurs in s. \n",
    "# For example, if s = 'azcbobobegghakl', then your program should print\n",
    "\n",
    "# Number of times bob occurs is: 2"
   ]
  },
  {
   "cell_type": "code",
   "execution_count": 45,
   "metadata": {
    "collapsed": false
   },
   "outputs": [
    {
     "name": "stdout",
     "output_type": "stream",
     "text": [
      "Number of times bob occurs is: 2\n"
     ]
    }
   ],
   "source": [
    "# this version skips the first letter, because the iteration is immediately set to 1, and python is 0 indexed. \n",
    "s = 'azcbobobegghakl'\n",
    "\n",
    "arry = list(s)\n",
    "my_count = 0\n",
    "iter = 0\n",
    "\n",
    "for i in arry:\n",
    "    iter += 1\n",
    "    if s[iter:iter+3] == 'bob':\n",
    "        my_count += 1\n",
    "print(\"Number of times bob occurs is: {}\".format(my_count))"
   ]
  },
  {
   "cell_type": "code",
   "execution_count": 46,
   "metadata": {
    "collapsed": false
   },
   "outputs": [
    {
     "name": "stdout",
     "output_type": "stream",
     "text": [
      "Number of times bob occurs is: 3\n"
     ]
    }
   ],
   "source": [
    "# fixes the 0 index issue. \n",
    "s = 'bobobzoboboom'\n",
    "arry = list(s)\n",
    "my_count = 0\n",
    "iter = 0\n",
    "\n",
    "for i in arry:\n",
    "    if s[iter:iter+3] == 'bob':\n",
    "        my_count += 1\n",
    "    iter += 1\n",
    "print(\"Number of times bob occurs is: {}\".format(my_count))"
   ]
  },
  {
   "cell_type": "code",
   "execution_count": 47,
   "metadata": {
    "collapsed": true
   },
   "outputs": [],
   "source": [
    "# Write a program that prints the longest substring of s in which the letters occur in alphabetical order. \n",
    "# For example, if s = 'azcbobobegghakl', then your program should print\n",
    "\n",
    "# Longest substring in alphabetical order is: beggh\n",
    "# In the case of ties, print the first substring. For example, if s = 'abcbcd', then your program should print\n",
    "\n",
    "# Longest substring in alphabetical order is: abc"
   ]
  },
  {
   "cell_type": "code",
   "execution_count": 59,
   "metadata": {
    "collapsed": false
   },
   "outputs": [
    {
     "name": "stdout",
     "output_type": "stream",
     "text": [
      "ccl\n"
     ]
    }
   ],
   "source": [
    "s = 'cyqfjhcclkbxpbojgkar'\n",
    "r = ''\n",
    "c = ''\n",
    "for char in s:\n",
    "    if (c == ''):\n",
    "        c = char\n",
    "    elif (c[-1] <= char):\n",
    "        c += char\n",
    "    elif (c[-1] > char):\n",
    "        if (len(r) < len(c)):\n",
    "            r = c\n",
    "            c = char\n",
    "        else:\n",
    "            c = char\n",
    "if (len(c) > len(r)):\n",
    "    r = c\n",
    "print(r)"
   ]
  },
  {
   "cell_type": "code",
   "execution_count": null,
   "metadata": {
    "collapsed": true
   },
   "outputs": [],
   "source": []
  }
 ],
 "metadata": {
  "anaconda-cloud": {},
  "kernelspec": {
   "display_name": "Python [Root]",
   "language": "python",
   "name": "Python [Root]"
  },
  "language_info": {
   "codemirror_mode": {
    "name": "ipython",
    "version": 3
   },
   "file_extension": ".py",
   "mimetype": "text/x-python",
   "name": "python",
   "nbconvert_exporter": "python",
   "pygments_lexer": "ipython3",
   "version": "3.5.2"
  }
 },
 "nbformat": 4,
 "nbformat_minor": 0
}
