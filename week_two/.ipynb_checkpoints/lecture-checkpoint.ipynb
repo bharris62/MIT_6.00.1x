{
 "cells": [
  {
   "cell_type": "code",
   "execution_count": 1,
   "metadata": {
    "collapsed": true
   },
   "outputs": [],
   "source": [
    "# lecture 1 for week 2"
   ]
  },
  {
   "cell_type": "code",
   "execution_count": 2,
   "metadata": {
    "collapsed": false
   },
   "outputs": [
    {
     "name": "stdout",
     "output_type": "stream",
     "text": [
      "a\n",
      "b\n",
      "c\n",
      "d\n",
      "e\n",
      "f\n",
      "g\n"
     ]
    }
   ],
   "source": [
    "# In python you can iterate over a screen, so it is unneccesary to \n",
    "# use list() like I did in week 1 to get it in an array\n",
    "str = 'abcdefg'\n",
    "\n",
    "for i in str:\n",
    "    print(i)"
   ]
  },
  {
   "cell_type": "code",
   "execution_count": 5,
   "metadata": {
    "collapsed": false
   },
   "outputs": [
    {
     "name": "stdout",
     "output_type": "stream",
     "text": [
      "Iteration 0; count is: 12\n",
      "Iteration 1; count is: 24\n",
      "Iteration 2; count is: 36\n",
      "Iteration 3; count is: 48\n",
      "Iteration 4; count is: 60\n"
     ]
    }
   ],
   "source": [
    "iteration = 0\n",
    "count = 0\n",
    "while iteration < 5:\n",
    "    for letter in \"hello, world\": \n",
    "        count += 1\n",
    "    print(\"Iteration {}; count is: {}\".format(iteration, count))\n",
    "    iteration += 1 "
   ]
  },
  {
   "cell_type": "code",
   "execution_count": 8,
   "metadata": {
    "collapsed": false
   },
   "outputs": [
    {
     "name": "stdout",
     "output_type": "stream",
     "text": [
      "Iteration 0; count is: 12\n",
      "Iteration 1; count is: 12\n",
      "Iteration 2; count is: 12\n",
      "Iteration 3; count is: 12\n",
      "Iteration 4; count is: 12\n"
     ]
    }
   ],
   "source": [
    "iteration = 0\n",
    "while iteration < 5:\n",
    "    count = 0\n",
    "    for letter in \"hello, world\":\n",
    "        count += 1\n",
    "    print(\"Iteration {}; count is: {}\".format(iteration, count))\n",
    "    \n",
    "    iteration += 1 "
   ]
  },
  {
   "cell_type": "code",
   "execution_count": 11,
   "metadata": {
    "collapsed": false
   },
   "outputs": [
    {
     "name": "stdout",
     "output_type": "stream",
     "text": [
      "Iteration 0; count is: 1\n",
      "Iteration 1; count is: 12\n",
      "Iteration 2; count is: 1\n",
      "Iteration 3; count is: 12\n",
      "Iteration 4; count is: 1\n"
     ]
    }
   ],
   "source": [
    "iteration = 0\n",
    "while iteration < 5:\n",
    "    count = 0\n",
    "    for letter in \"hello, world\":\n",
    "        count += 1\n",
    "        if iteration % 2 == 0:\n",
    "            break\n",
    "    print(\"Iteration {}; count is: {}\".format(iteration, count))\n",
    "    \n",
    "    iteration += 1 "
   ]
  },
  {
   "cell_type": "code",
   "execution_count": 29,
   "metadata": {
    "collapsed": false
   },
   "outputs": [
    {
     "name": "stdout",
     "output_type": "stream",
     "text": [
      "num guesses = 300\n",
      "2.99999999999998 is close to the cube of 27\n"
     ]
    }
   ],
   "source": [
    "# approximate solution for finding cube\n",
    "\n",
    "cube = 27\n",
    "epsilon = .000001\n",
    "guess = 0.0\n",
    "increment = .01\n",
    "num_guesses = 0\n",
    "\n",
    "while abs(guess**3 - cube) >= epsilon and guess <= cube:\n",
    "    guess += increment\n",
    "    num_guesses += 1\n",
    "print ('num guesses = {}'.format(num_guesses))\n",
    "if abs(guess**3 - cube) >= epsilon:\n",
    "    print(\"Failed on cube root of: {}\".format(cube))\n",
    "else:\n",
    "    print(\"{} is close to the cube of {}\".format(guess, cube))"
   ]
  },
  {
   "cell_type": "code",
   "execution_count": 38,
   "metadata": {
    "collapsed": false
   },
   "outputs": [
    {
     "name": "stdout",
     "output_type": "stream",
     "text": [
      "failed\n"
     ]
    }
   ],
   "source": [
    "x = 23\n",
    "epsilon = 0.01\n",
    "step = 0.1\n",
    "guess = 0.0\n",
    "\n",
    "while abs(guess**2-x) >= epsilon:\n",
    "    if guess <= x:\n",
    "        guess += step\n",
    "    else:\n",
    "        break\n",
    "\n",
    "if abs(guess**2 - x) >= epsilon:\n",
    "    print('failed')\n",
    "else:\n",
    "    print('succeeded: {}'.format(guess))"
   ]
  },
  {
   "cell_type": "code",
   "execution_count": null,
   "metadata": {
    "collapsed": true
   },
   "outputs": [],
   "source": []
  }
 ],
 "metadata": {
  "anaconda-cloud": {},
  "kernelspec": {
   "display_name": "Python [Root]",
   "language": "python",
   "name": "Python [Root]"
  },
  "language_info": {
   "codemirror_mode": {
    "name": "ipython",
    "version": 3
   },
   "file_extension": ".py",
   "mimetype": "text/x-python",
   "name": "python",
   "nbconvert_exporter": "python",
   "pygments_lexer": "ipython3",
   "version": "3.5.2"
  }
 },
 "nbformat": 4,
 "nbformat_minor": 0
}
